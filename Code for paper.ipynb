{
 "cells": [
  {
   "cell_type": "markdown",
   "metadata": {},
   "source": [
    "We start by bringing in the Python libraries that we will be using for this code. We will be using Torch, which will enable us to run the code in the GPU for faster processing as compared to the CPU. Torch also assists us during backpropagation, using Autograd that does differentiation and stores the gradients that can be called when required. PyTorch also enables us to create neural networks very easily, and PyTorch together with the Numpy, Pandas and Scipy libraries makes it very powerful for Neural Networks calculations."
   ]
  },
  {
   "cell_type": "markdown",
   "metadata": {},
   "source": [
    "## Neural Networks\n",
    "\n",
    "Neural networks are the building blocks for deep learning. They are made up of neurons or units. Each weighted unit sums up the units of the previous layers and passes the sum through an activation function to get the neuron's output. Some activation functions used in this code are sigmoid, ReLU (Rectified Linear Units), Softmax, tanH (hyperbolic tangent) just to name a few. \n",
    "\n",
    "<img src='images/Neural Network.png' width=400px> \n",
    "\n",
    "A simple neural network would be depicted as shown below: \n",
    "\n",
    "$$\n",
    "\\begin{align}\n",
    "y &= f(w_1 x_1 + w_2 x_2 + w_3 x_3 + b) \\\\\n",
    "y &= f\\left(\\sum_i w_i x_i +b \\right)\n",
    "\\end{align}\n",
    "$$\n",
    "\n",
    "The linear transformation done on each unit is given by the dot product of the input vector and the weight matrix:\n",
    "\n",
    "$$\n",
    "h = \\begin{bmatrix}\n",
    "x_1 \\, x_2 \\cdots  x_n\n",
    "\\end{bmatrix}\n",
    "\\cdot \n",
    "\\begin{bmatrix}\n",
    "           w_{11}  w_{21}\\\\\n",
    "           w_{12}  w_{22}\\\\\n",
    "           \\vdots \\\\\n",
    "           w_{1n}  w_{2n}\n",
    "\\end{bmatrix}\n",
    "$$"
   ]
  },
  {
   "cell_type": "markdown",
   "metadata": {},
   "source": [
    "We begin by importing the libraries that we will be using in our code:\n",
    "* torch - used to bring the torch package which will be used in creating the neural network layers, weihts and biases, as well as the backpropagation using autograd.\n",
    "* nn - this module will be used for easy neural network creation.\n",
    "* optim - used to optimize the neural network to adjust the weights to the optimal weights to give us the intended labels.\n"
   ]
  },
  {
   "cell_type": "code",
   "execution_count": 31,
   "metadata": {},
   "outputs": [],
   "source": [
    "import torch \n",
    "from torch import nn, optim\n",
    "from torch import optim\n",
    "import numpy as np"
   ]
  },
  {
   "cell_type": "markdown",
   "metadata": {},
   "source": [
    "We're going to build a small neural network with only one example as shown below. Our goal is to build a network that will give the correct output `[0.0,1.0,0.0]`"
   ]
  },
  {
   "cell_type": "code",
   "execution_count": 33,
   "metadata": {},
   "outputs": [
    {
     "name": "stdout",
     "output_type": "stream",
     "text": [
      "torch.Size([1, 3])\n",
      "tensor([[0.1000, 0.2000, 0.7000]])\n"
     ]
    }
   ],
   "source": [
    "x = torch.tensor([0.1,0.2,0.7])\n",
    "x = x.reshape(1,3)\n",
    "print(x.shape)\n",
    "print(x)"
   ]
  },
  {
   "cell_type": "markdown",
   "metadata": {},
   "source": [
    "Our output will be given by the vector below:"
   ]
  },
  {
   "cell_type": "code",
   "execution_count": 34,
   "metadata": {},
   "outputs": [
    {
     "name": "stdout",
     "output_type": "stream",
     "text": [
      "torch.Size([1, 3])\n",
      "tensor([[0, 1, 0]])\n"
     ]
    }
   ],
   "source": [
    "labels = torch.tensor([0,1,0])\n",
    "labels = labels.reshape(1,3)\n",
    "labels = labels\n",
    "print(labels.shape)\n",
    "print(labels)\n"
   ]
  },
  {
   "cell_type": "markdown",
   "metadata": {},
   "source": [
    "Here is where the neural network is made and all the fun begins! I will go through the code line by line.\n",
    "\n",
    "```python\n",
    "class Network(nn.Module):\n",
    "```\n",
    "\n",
    "Using the `nn.Module` combined with `__super().__init__()` creates a class that will assist us with tracking of the neural network methods and attributes. The class name can be changed to anything, although it is mandatory to inherit it from the `nn.Module`.\n",
    "\n",
    "```python\n",
    "self.hidden = nn.Linear(3,3)\n",
    "```\n",
    "\n",
    "This line creates a 3 X 3 matrix for the first hidden layer. `nn.Linear(3,3)` creates a linear transformation $x\\mathbf{W} + b$, with 3 inputs and 3 outputs and assigns it to `self.hidden`. This module also creates the weights and biases which will be used in the feedforward using the `forward` method. \n",
    "\n",
    "The subsequent line, `self.hidden2 = nn.Linear(3,3)` performs the same function as the first hidden layer. Here we generate a 3 X 3 tensor for the second hidden layer. A linear transformation creates the weights and bias tensors and assigns them to `self.hidden2`. This will later be used in the `forward` method.\n",
    "\n",
    "```python\n",
    "self.output = nn.Linear(3,3)\n",
    "```\n",
    "This creates a linear transformation in the output of size 3 X 3 to be used to generate the output of the neural network. This will be used in the softmax activation function in the output layer.\n",
    "\n",
    "```python\n",
    "self.hidden.weight = torch.nn.Parameter(torch.tensor([[0.1,0.3,0.4],[0.2,0.2,0.3],[0.3,0.7,0.9]]))\n",
    "```\n",
    "\n",
    "This line of code creates the exact weights that will be used in the code. This was done to enable comparison between the code and the hand calculations already performed.\n",
    "\n",
    "\n",
    "`self.hidden2.weight and self.output.weight` tensors are also created to explicitly define the tensors for the second hidden layer and the output layer of the neural network.\n",
    "\n",
    "```python\n",
    "self.sigmoid = nn.Sigmoid()\n",
    "self.relu = nn.ReLU()\n",
    "self.softmax = nn.Softmax(dim=1)\n",
    "```\n",
    "These operations are the sigmoid, Rectified Linear Unit (ReLU) and the softmax activation functions. The softmax is used in the output where we will be generating 3 classes for the 3 output units. The `dim=1` is used to ensure that the summation is done across the columns, as opposed to across the rows. The softmax summation should always add to 1 as this is a propability summation.\n",
    "\n",
    "Some things to note :\n",
    "* The softmax activation function can ONLY be used in the output layer. \n",
    "* The softmax function and the Logistic/sigmoid function yield the same results when the number of classes = 2, therefore softmax is a generalization of the sigmoid function.\n",
    "\n",
    "```python\n",
    "def forward (self,x):\n",
    "```\n",
    "\n",
    "PyTorch neural networks require a `forward` method defined to be able to perform the feedforward step. This is achieved by taking a tensor `x` and taking it through all the operation defined in the `__init__` method.\n",
    "\n",
    "```python\n",
    "x = self.hidden(x)\n",
    "    \n",
    "x = self.relu(x)\n",
    "       \n",
    "x = self.hidden2(x)\n",
    "        \n",
    "x = self.sigmoid(x)\n",
    "        \n",
    "x = self.output(x)\n",
    "        \n",
    "x = self.softmax(x)\n",
    "```\n",
    "\n",
    "Here we pass the input tensor `x` through the hidden layes, hidden layer 2, the sigmoid the output layer and finally the softmax function. The operations must be sequenced correctly in the forward method to ensure that the operations are done sequentially as expected.\n"
   ]
  },
  {
   "cell_type": "code",
   "execution_count": 35,
   "metadata": {},
   "outputs": [],
   "source": [
    "class Network(nn.Module):\n",
    "    def __init__(self):\n",
    "        super().__init__()\n",
    "        \n",
    "        # Inputs to hidden layer linear transformation\n",
    "        self.hidden = nn.Linear(3, 3)\n",
    "        self.hidden2 = nn.Linear(3, 3)\n",
    "        self.output = nn.Linear(3, 3)\n",
    "        \n",
    "        self.hidden.weight = torch.nn.Parameter(torch.tensor([[0.1,0.3,0.4],[0.2,0.2,0.3],[0.3,0.7,0.9]]))\n",
    "        self.hidden2.weight = torch.nn.Parameter(torch.tensor([[0.2,0.3,0.6],[0.3,0.5,0.4],[0.5,0.7,0.8]]))\n",
    "        self.output.weight = torch.nn.Parameter(torch.tensor([[0.1,0.3,0.5],[0.4,0.7,0.2],[0.8,0.2,0.9]]))\n",
    "       \n",
    "        \n",
    "        \n",
    "        # Define sigmoid activation, ReLU and softmax output \n",
    "        self.sigmoid = nn.Sigmoid()\n",
    "        self.relu = nn.ReLU()\n",
    "        self.softmax = nn.Softmax(dim=1)\n",
    "        \n",
    "    def forward(self, x):\n",
    "        # Pass the input tensor through each of our operations\n",
    "        x = self.hidden(x)\n",
    "    \n",
    "        x = self.relu(x)\n",
    "       \n",
    "        x = self.hidden2(x)\n",
    "        \n",
    "        x = self.sigmoid(x)\n",
    "        \n",
    "        x = self.output(x)\n",
    "        \n",
    "        x = self.softmax(x)\n",
    "        \n",
    "        return x\n",
    "\n",
    "    \n",
    "    "
   ]
  },
  {
   "cell_type": "markdown",
   "metadata": {},
   "source": [
    "We can now create a `Network` object `model = Network()`\n",
    "\n",
    "An epoch in Machine Learning is the number of times we want to pass through the same data to optimize the weights to reduce the loss. For this neural network, we will use 50 epochs. \n",
    "\n",
    "The next thing after the feedforward is the calculation of the loss of the neural network. We will be using the `nn.CrosEntropyloss()` criterion. This criterion is a combination of the `nn.LogSoftmax()` and `nn.NLLLoss`. The NLLLoss stands for the Negative Log Likelihood Loss. It is used when softmax function is being used in the output layer of the neural network. This loss maximizes the likelihood of the correct label while reducing the other classes to 0.\n",
    "\n",
    "`loss.backward` performs the backpropagation and calculates the gradients in each weight and bias.\n",
    "\n",
    "\n",
    "PyTorch has a module, autograd that enables us to automatically calculate the gradients of the tensors. We can use this to calculate the gradients with all of our parameters to the loss. Autograd tracks the operations performed during the feedforward, then calculates the gradient dugin backpropagation. Autograd, basically does differentiation, for those who are familiar with math Calculus using chain rule. During backpropagation, it is important to ensure that the gradient calculations are turned on by setting `requires_grad = True` on a tensor. This can be done during the tensor creation with `required_grad` keyword, or any time using `y.required_grad_True)`.\n",
    "\n",
    "Gradient can be trurned off in a block of code using `torch.no_grad()` or globally on the entire code using `torch.set_grad_enables(True|False)`.\n",
    "\n",
    "To train the network, we use the [`optim` package](https://pytorch.org/docs/stable/optim.html). For this network, we use the `optim.Adam` package. There are a lot of other packages we can use such as `optim.SGD` where the opimizer used Stochastic gradient descent for optimization. It is critical to zero out the gradient in each epoch using `optimizer.zero_grad()` to ensure that the gradients are not accumulated for each training .For this network, the learning rate, `lr=0.09` was adequate enough to ensure that we got to a global minumum as fast as possible.\n"
   ]
  },
  {
   "cell_type": "code",
   "execution_count": 36,
   "metadata": {},
   "outputs": [
    {
     "name": "stdout",
     "output_type": "stream",
     "text": [
      "tensor([[0, 1, 0]])\n",
      "tensor(1.2714, grad_fn=<NllLossBackward>)\n",
      "tensor([[0.2725, 0.1738, 0.5537]], grad_fn=<SoftmaxBackward>)\n",
      "tensor([[0, 1, 0]])\n",
      "tensor(1.2714, grad_fn=<NllLossBackward>)\n",
      "tensor([[0.2725, 0.1738, 0.5537]], grad_fn=<SoftmaxBackward>)\n",
      "tensor([[0, 1, 0]])\n",
      "tensor(1.2714, grad_fn=<NllLossBackward>)\n",
      "tensor([[0.2725, 0.1738, 0.5537]], grad_fn=<SoftmaxBackward>)\n",
      "tensor([[0, 1, 0]])\n",
      "tensor(1.2714, grad_fn=<NllLossBackward>)\n",
      "tensor([[0.2725, 0.1738, 0.5537]], grad_fn=<SoftmaxBackward>)\n",
      "tensor([[0, 1, 0]])\n",
      "tensor(1.2714, grad_fn=<NllLossBackward>)\n",
      "tensor([[0.2725, 0.1738, 0.5537]], grad_fn=<SoftmaxBackward>)\n",
      "tensor([[0, 1, 0]])\n",
      "tensor(1.2714, grad_fn=<NllLossBackward>)\n",
      "tensor([[0.2725, 0.1738, 0.5537]], grad_fn=<SoftmaxBackward>)\n",
      "tensor([[0, 1, 0]])\n",
      "tensor(1.2714, grad_fn=<NllLossBackward>)\n",
      "tensor([[0.2725, 0.1738, 0.5537]], grad_fn=<SoftmaxBackward>)\n",
      "tensor([[0, 1, 0]])\n",
      "tensor(1.2714, grad_fn=<NllLossBackward>)\n",
      "tensor([[0.2725, 0.1738, 0.5537]], grad_fn=<SoftmaxBackward>)\n",
      "tensor([[0, 1, 0]])\n",
      "tensor(1.2714, grad_fn=<NllLossBackward>)\n",
      "tensor([[0.2725, 0.1738, 0.5537]], grad_fn=<SoftmaxBackward>)\n",
      "tensor([[0, 1, 0]])\n",
      "tensor(1.2714, grad_fn=<NllLossBackward>)\n",
      "tensor([[0.2725, 0.1738, 0.5537]], grad_fn=<SoftmaxBackward>)\n",
      "tensor([[0, 1, 0]])\n",
      "tensor(1.2714, grad_fn=<NllLossBackward>)\n",
      "tensor([[0.2725, 0.1738, 0.5537]], grad_fn=<SoftmaxBackward>)\n",
      "tensor([[0, 1, 0]])\n",
      "tensor(1.2714, grad_fn=<NllLossBackward>)\n",
      "tensor([[0.2725, 0.1738, 0.5537]], grad_fn=<SoftmaxBackward>)\n",
      "tensor([[0, 1, 0]])\n",
      "tensor(1.2714, grad_fn=<NllLossBackward>)\n",
      "tensor([[0.2725, 0.1738, 0.5537]], grad_fn=<SoftmaxBackward>)\n",
      "tensor([[0, 1, 0]])\n",
      "tensor(1.2714, grad_fn=<NllLossBackward>)\n",
      "tensor([[0.2725, 0.1738, 0.5537]], grad_fn=<SoftmaxBackward>)\n",
      "tensor([[0, 1, 0]])\n",
      "tensor(1.2714, grad_fn=<NllLossBackward>)\n",
      "tensor([[0.2725, 0.1738, 0.5537]], grad_fn=<SoftmaxBackward>)\n",
      "tensor([[0, 1, 0]])\n",
      "tensor(1.2714, grad_fn=<NllLossBackward>)\n",
      "tensor([[0.2725, 0.1738, 0.5537]], grad_fn=<SoftmaxBackward>)\n",
      "tensor([[0, 1, 0]])\n",
      "tensor(1.2714, grad_fn=<NllLossBackward>)\n",
      "tensor([[0.2725, 0.1738, 0.5537]], grad_fn=<SoftmaxBackward>)\n",
      "tensor([[0, 1, 0]])\n",
      "tensor(1.2714, grad_fn=<NllLossBackward>)\n",
      "tensor([[0.2725, 0.1738, 0.5537]], grad_fn=<SoftmaxBackward>)\n",
      "tensor([[0, 1, 0]])\n",
      "tensor(1.2714, grad_fn=<NllLossBackward>)\n",
      "tensor([[0.2725, 0.1738, 0.5537]], grad_fn=<SoftmaxBackward>)\n",
      "tensor([[0, 1, 0]])\n",
      "tensor(1.2714, grad_fn=<NllLossBackward>)\n",
      "tensor([[0.2725, 0.1738, 0.5537]], grad_fn=<SoftmaxBackward>)\n",
      "tensor([[0, 1, 0]])\n",
      "tensor(1.2714, grad_fn=<NllLossBackward>)\n",
      "tensor([[0.2725, 0.1738, 0.5537]], grad_fn=<SoftmaxBackward>)\n",
      "tensor([[0, 1, 0]])\n",
      "tensor(1.2714, grad_fn=<NllLossBackward>)\n",
      "tensor([[0.2725, 0.1738, 0.5537]], grad_fn=<SoftmaxBackward>)\n",
      "tensor([[0, 1, 0]])\n",
      "tensor(1.2714, grad_fn=<NllLossBackward>)\n",
      "tensor([[0.2725, 0.1738, 0.5537]], grad_fn=<SoftmaxBackward>)\n",
      "tensor([[0, 1, 0]])\n",
      "tensor(1.2714, grad_fn=<NllLossBackward>)\n",
      "tensor([[0.2725, 0.1738, 0.5537]], grad_fn=<SoftmaxBackward>)\n",
      "tensor([[0, 1, 0]])\n",
      "tensor(1.2714, grad_fn=<NllLossBackward>)\n",
      "tensor([[0.2725, 0.1738, 0.5537]], grad_fn=<SoftmaxBackward>)\n",
      "tensor([[0, 1, 0]])\n",
      "tensor(1.2714, grad_fn=<NllLossBackward>)\n",
      "tensor([[0.2725, 0.1738, 0.5537]], grad_fn=<SoftmaxBackward>)\n",
      "tensor([[0, 1, 0]])\n",
      "tensor(1.2714, grad_fn=<NllLossBackward>)\n",
      "tensor([[0.2725, 0.1738, 0.5537]], grad_fn=<SoftmaxBackward>)\n",
      "tensor([[0, 1, 0]])\n",
      "tensor(1.2714, grad_fn=<NllLossBackward>)\n",
      "tensor([[0.2725, 0.1738, 0.5537]], grad_fn=<SoftmaxBackward>)\n",
      "tensor([[0, 1, 0]])\n",
      "tensor(1.2714, grad_fn=<NllLossBackward>)\n",
      "tensor([[0.2725, 0.1738, 0.5537]], grad_fn=<SoftmaxBackward>)\n",
      "tensor([[0, 1, 0]])\n",
      "tensor(1.2714, grad_fn=<NllLossBackward>)\n",
      "tensor([[0.2725, 0.1738, 0.5537]], grad_fn=<SoftmaxBackward>)\n",
      "tensor([[0, 1, 0]])\n",
      "tensor(1.2714, grad_fn=<NllLossBackward>)\n",
      "tensor([[0.2725, 0.1738, 0.5537]], grad_fn=<SoftmaxBackward>)\n",
      "tensor([[0, 1, 0]])\n",
      "tensor(1.2714, grad_fn=<NllLossBackward>)\n",
      "tensor([[0.2725, 0.1738, 0.5537]], grad_fn=<SoftmaxBackward>)\n",
      "tensor([[0, 1, 0]])\n",
      "tensor(1.2714, grad_fn=<NllLossBackward>)\n",
      "tensor([[0.2725, 0.1738, 0.5537]], grad_fn=<SoftmaxBackward>)\n",
      "tensor([[0, 1, 0]])\n",
      "tensor(1.2714, grad_fn=<NllLossBackward>)\n",
      "tensor([[0.2725, 0.1738, 0.5537]], grad_fn=<SoftmaxBackward>)\n",
      "tensor([[0, 1, 0]])\n",
      "tensor(1.2714, grad_fn=<NllLossBackward>)\n",
      "tensor([[0.2725, 0.1738, 0.5537]], grad_fn=<SoftmaxBackward>)\n",
      "tensor([[0, 1, 0]])\n",
      "tensor(1.2714, grad_fn=<NllLossBackward>)\n",
      "tensor([[0.2725, 0.1738, 0.5537]], grad_fn=<SoftmaxBackward>)\n",
      "tensor([[0, 1, 0]])\n",
      "tensor(1.2714, grad_fn=<NllLossBackward>)\n",
      "tensor([[0.2725, 0.1738, 0.5537]], grad_fn=<SoftmaxBackward>)\n",
      "tensor([[0, 1, 0]])\n",
      "tensor(1.2714, grad_fn=<NllLossBackward>)\n",
      "tensor([[0.2725, 0.1738, 0.5537]], grad_fn=<SoftmaxBackward>)\n",
      "tensor([[0, 1, 0]])\n",
      "tensor(1.2714, grad_fn=<NllLossBackward>)\n",
      "tensor([[0.2725, 0.1738, 0.5537]], grad_fn=<SoftmaxBackward>)\n",
      "tensor([[0, 1, 0]])\n",
      "tensor(1.2714, grad_fn=<NllLossBackward>)\n",
      "tensor([[0.2725, 0.1738, 0.5537]], grad_fn=<SoftmaxBackward>)\n",
      "tensor([[0, 1, 0]])\n",
      "tensor(1.2714, grad_fn=<NllLossBackward>)\n",
      "tensor([[0.2725, 0.1738, 0.5537]], grad_fn=<SoftmaxBackward>)\n",
      "tensor([[0, 1, 0]])\n",
      "tensor(1.2714, grad_fn=<NllLossBackward>)\n",
      "tensor([[0.2725, 0.1738, 0.5537]], grad_fn=<SoftmaxBackward>)\n",
      "tensor([[0, 1, 0]])\n",
      "tensor(1.2714, grad_fn=<NllLossBackward>)\n",
      "tensor([[0.2725, 0.1738, 0.5537]], grad_fn=<SoftmaxBackward>)\n",
      "tensor([[0, 1, 0]])\n",
      "tensor(1.2714, grad_fn=<NllLossBackward>)\n",
      "tensor([[0.2725, 0.1738, 0.5537]], grad_fn=<SoftmaxBackward>)\n",
      "tensor([[0, 1, 0]])\n",
      "tensor(1.2714, grad_fn=<NllLossBackward>)\n",
      "tensor([[0.2725, 0.1738, 0.5537]], grad_fn=<SoftmaxBackward>)\n",
      "tensor([[0, 1, 0]])\n",
      "tensor(1.2714, grad_fn=<NllLossBackward>)\n",
      "tensor([[0.2725, 0.1738, 0.5537]], grad_fn=<SoftmaxBackward>)\n",
      "tensor([[0, 1, 0]])\n",
      "tensor(1.2714, grad_fn=<NllLossBackward>)\n",
      "tensor([[0.2725, 0.1738, 0.5537]], grad_fn=<SoftmaxBackward>)\n",
      "tensor([[0, 1, 0]])\n",
      "tensor(1.2714, grad_fn=<NllLossBackward>)\n",
      "tensor([[0.2725, 0.1738, 0.5537]], grad_fn=<SoftmaxBackward>)\n",
      "tensor([[0, 1, 0]])\n",
      "tensor(1.2714, grad_fn=<NllLossBackward>)\n",
      "tensor([[0.2725, 0.1738, 0.5537]], grad_fn=<SoftmaxBackward>)\n"
     ]
    }
   ],
   "source": [
    "model = Network()\n",
    "epochs = 50\n",
    "for t in range (1,epochs):\n",
    "    criterion = nn.CrossEntropyLoss()\n",
    "    logps = model(x)\n",
    "    print(labels)\n",
    "    loss = criterion(logps, torch.max(labels, 1)[1])\n",
    "    loss.backward()\n",
    "    optimizer = optim.Adam(model.parameters(), lr=0.09)\n",
    "    optimizer.zero_grad()\n",
    "    optimizer.step()\n",
    "    print(loss)\n",
    "    print(model.forward(x))"
   ]
  },
  {
   "cell_type": "markdown",
   "metadata": {},
   "source": [
    "Below I take you through a quick example showing how autograd calculates and performs backpropagation. "
   ]
  },
  {
   "cell_type": "code",
   "execution_count": 38,
   "metadata": {
    "scrolled": true
   },
   "outputs": [
    {
     "name": "stdout",
     "output_type": "stream",
     "text": [
      "tensor([[-0.3680, -1.1311],\n",
      "        [ 0.1723, -1.1959]], requires_grad=True)\n"
     ]
    }
   ],
   "source": [
    "a = torch.randn(2,2, requires_grad=True)\n",
    "print(a)"
   ]
  },
  {
   "cell_type": "code",
   "execution_count": 39,
   "metadata": {
    "scrolled": false
   },
   "outputs": [
    {
     "name": "stdout",
     "output_type": "stream",
     "text": [
      "tensor([[-0.0498, -1.4470],\n",
      "        [ 0.0051, -1.7103]], grad_fn=<PowBackward0>)\n"
     ]
    }
   ],
   "source": [
    "y = a**3\n",
    "print(y)"
   ]
  },
  {
   "cell_type": "markdown",
   "metadata": {},
   "source": [
    "Here, we see that `y` is created with the a power operation `PowBackward0`"
   ]
  },
  {
   "cell_type": "code",
   "execution_count": 40,
   "metadata": {
    "scrolled": true
   },
   "outputs": [
    {
     "name": "stdout",
     "output_type": "stream",
     "text": [
      "tensor([[2.4846e-03, 2.0937e+00],\n",
      "        [2.6132e-05, 2.9250e+00]], grad_fn=<PowBackward0>)\n"
     ]
    }
   ],
   "source": [
    "m = y**2\n",
    "print(m)"
   ]
  },
  {
   "cell_type": "markdown",
   "metadata": {},
   "source": [
    "The `y` then goes through another power operation where it is squared."
   ]
  },
  {
   "cell_type": "code",
   "execution_count": 41,
   "metadata": {
    "scrolled": true
   },
   "outputs": [
    {
     "name": "stdout",
     "output_type": "stream",
     "text": [
      "<PowBackward0 object at 0x12027d990>\n"
     ]
    }
   ],
   "source": [
    "print(m.grad_fn)"
   ]
  },
  {
   "cell_type": "markdown",
   "metadata": {},
   "source": [
    "Autograd tracks all the operations and calculates the gradients for each operation during backpropagation. Next we take a mean operation to get a scalar value from m."
   ]
  },
  {
   "cell_type": "code",
   "execution_count": 27,
   "metadata": {},
   "outputs": [
    {
     "name": "stdout",
     "output_type": "stream",
     "text": [
      "tensor(0.1634, grad_fn=<MeanBackward0>)\n"
     ]
    }
   ],
   "source": [
    "z = m.mean()\n",
    "print(z)"
   ]
  },
  {
   "cell_type": "code",
   "execution_count": 28,
   "metadata": {},
   "outputs": [
    {
     "name": "stdout",
     "output_type": "stream",
     "text": [
      "None\n"
     ]
    }
   ],
   "source": [
    "print(a.grad)\n",
    "#print((a**2)/3)"
   ]
  },
  {
   "cell_type": "markdown",
   "metadata": {},
   "source": [
    "We can see that there are no gradients since no backpropagation has been done at this point.The gradient after the `z.backward()` results in exactly the same results from the math differentiation with respect to a:\n",
    "$$\n",
    "\\frac{\\partial z}{\\partial a} = \\frac{\\partial}{\\partial a}\\left[\\frac{1}{n}\\sum_i^n (a_i^3)^2\\right] = \\frac{3a^5}{2}\n",
    "$$"
   ]
  },
  {
   "cell_type": "code",
   "execution_count": 29,
   "metadata": {
    "scrolled": true
   },
   "outputs": [
    {
     "name": "stdout",
     "output_type": "stream",
     "text": [
      "tensor([[ 1.6507e-04,  4.4403e-01],\n",
      "        [-3.4622e-03,  7.2903e-01]])\n",
      "tensor([[ 1.6507e-04,  4.4403e-01],\n",
      "        [-3.4622e-03,  7.2903e-01]], grad_fn=<DivBackward0>)\n"
     ]
    }
   ],
   "source": [
    "z.backward()\n",
    "print(a.grad)\n",
    "print((3*(a**5))/2)"
   ]
  },
  {
   "cell_type": "markdown",
   "metadata": {},
   "source": [
    "The results from the autograd's `z.backward()`yields the same result as the differentiation using chain rule from Calculus."
   ]
  }
 ],
 "metadata": {
  "kernelspec": {
   "display_name": "Python 3",
   "language": "python",
   "name": "python3"
  },
  "language_info": {
   "codemirror_mode": {
    "name": "ipython",
    "version": 3
   },
   "file_extension": ".py",
   "mimetype": "text/x-python",
   "name": "python",
   "nbconvert_exporter": "python",
   "pygments_lexer": "ipython3",
   "version": "3.7.4"
  }
 },
 "nbformat": 4,
 "nbformat_minor": 2
}
